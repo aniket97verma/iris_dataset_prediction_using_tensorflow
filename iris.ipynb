{
 "cells": [
  {
   "cell_type": "code",
   "execution_count": 1,
   "metadata": {},
   "outputs": [],
   "source": [
    "from __future__ import absolute_import\n",
    "from __future__ import division\n",
    "from __future__ import print_function\n",
    "\n",
    "import os\n",
    "import urllib\n",
    "\n",
    "import numpy as np\n",
    "import tensorflow as tf"
   ]
  },
  {
   "cell_type": "code",
   "execution_count": 2,
   "metadata": {},
   "outputs": [],
   "source": [
    "# Data sets\n",
    "iris_train = \"iris_training.csv\"\n",
    "iris_train_url = \"http://download.tensorflow.org/data/iris_training.csv\"\n",
    "\n",
    "iris_test = \"iris_test.csv\"\n",
    "irsi_test_url = \"http://download.tensorflow.org/data/iris_test.csv\"\n"
   ]
  },
  {
   "cell_type": "code",
   "execution_count": 3,
   "metadata": {},
   "outputs": [],
   "source": [
    "def main():\n",
    "    # If the training and test sets aren't stored locally, download them.\n",
    "    if not os.path.exists(iris_train):\n",
    "        raw = urllib.urlopen(iris_train_url).read()\n",
    "        with open(iris_train, \"w\") as f:\n",
    "            f.write(raw)\n",
    "            \n",
    "    if not os.path.exists(iris_test):\n",
    "        raw = urllib.urlopen(iris_test_url).read()\n",
    "        with open(iris_test, \"w\") as f:\n",
    "            f.write(raw)"
   ]
  },
  {
   "cell_type": "code",
   "execution_count": 4,
   "metadata": {},
   "outputs": [],
   "source": [
    "# Load datasets.\n",
    "training_set = tf.contrib.learn.datasets.base.load_csv_with_header(\n",
    "    filename=iris_train,\n",
    "    target_dtype=np.int,\n",
    "    features_dtype=np.float32)\n",
    "test_set = tf.contrib.learn.datasets.base.load_csv_with_header(\n",
    "    filename=iris_test,\n",
    "    target_dtype=np.int,\n",
    "    features_dtype=np.float32)"
   ]
  },
  {
   "cell_type": "code",
   "execution_count": 5,
   "metadata": {},
   "outputs": [
    {
     "name": "stdout",
     "output_type": "stream",
     "text": [
      "INFO:tensorflow:Using default config.\n",
      "INFO:tensorflow:Using config: {'_is_chief': True, '_keep_checkpoint_max': 5, '_keep_checkpoint_every_n_hours': 10000, '_environment': 'local', '_model_dir': 'C:/Users/MAYANK/Downloads/dataset/iris/iris_model', '_task_type': None, '_cluster_spec': <tensorflow.python.training.server_lib.ClusterSpec object at 0x000001F8B1BE24E0>, '_tf_random_seed': None, '_task_id': 0, '_session_config': None, '_save_checkpoints_secs': 600, '_evaluation_master': '', '_save_summary_steps': 100, '_num_ps_replicas': 0, '_master': '', '_log_step_count_steps': 100, '_save_checkpoints_steps': None, '_tf_config': gpu_options {\n",
      "  per_process_gpu_memory_fraction: 1\n",
      "}\n",
      ", '_num_worker_replicas': 0}\n"
     ]
    }
   ],
   "source": [
    "# Specify that all features have real-value data\n",
    "feature_columns = [tf.contrib.layers.real_valued_column(\"\", dimension=4)]\n",
    "\n",
    "# Build 3 layer DNN with 10, 20, 10 units respectively.\n",
    "classifier = tf.contrib.learn.DNNClassifier(feature_columns=feature_columns,\n",
    "                                        hidden_units=[10, 20, 10],\n",
    "                                        n_classes=3,\n",
    "                                        model_dir=\"iris_model\")"
   ]
  },
  {
   "cell_type": "code",
   "execution_count": 6,
   "metadata": {},
   "outputs": [
    {
     "name": "stdout",
     "output_type": "stream",
     "text": [
      "WARNING:tensorflow:From <ipython-input-6-fd9f17968520>:2: calling BaseEstimator.fit (from tensorflow.contrib.learn.python.learn.estimators.estimator) with x is deprecated and will be removed after 2016-12-01.\n",
      "Instructions for updating:\n",
      "Estimator is decoupled from Scikit Learn interface by moving into\n",
      "separate class SKCompat. Arguments x, y and batch_size are only\n",
      "available in the SKCompat class, Estimator will only accept input_fn.\n",
      "Example conversion:\n",
      "  est = Estimator(...) -> est = SKCompat(Estimator(...))\n",
      "WARNING:tensorflow:From <ipython-input-6-fd9f17968520>:2: calling BaseEstimator.fit (from tensorflow.contrib.learn.python.learn.estimators.estimator) with y is deprecated and will be removed after 2016-12-01.\n",
      "Instructions for updating:\n",
      "Estimator is decoupled from Scikit Learn interface by moving into\n",
      "separate class SKCompat. Arguments x, y and batch_size are only\n",
      "available in the SKCompat class, Estimator will only accept input_fn.\n",
      "Example conversion:\n",
      "  est = Estimator(...) -> est = SKCompat(Estimator(...))\n",
      "WARNING:tensorflow:From c:\\program files\\python35\\lib\\site-packages\\tensorflow\\contrib\\learn\\python\\learn\\estimators\\head.py:642: scalar_summary (from tensorflow.python.ops.logging_ops) is deprecated and will be removed after 2016-11-30.\n",
      "Instructions for updating:\n",
      "Please switch to tf.summary.scalar. Note that tf.summary.scalar uses the node name instead of the tag. This means that TensorFlow will automatically de-duplicate summary names based on the scope they are created in. Also, passing a tensor or list of tags to a scalar summary op is no longer supported.\n",
      "INFO:tensorflow:Create CheckpointSaverHook.\n",
      "INFO:tensorflow:Restoring parameters from C:/Users/MAYANK/Downloads/dataset/iris/iris_model\\model.ckpt-2000\n",
      "INFO:tensorflow:Saving checkpoints for 2001 into C:/Users/MAYANK/Downloads/dataset/iris/iris_model\\model.ckpt.\n",
      "INFO:tensorflow:step = 2001, loss = 0.047983\n",
      "INFO:tensorflow:global_step/sec: 162.046\n",
      "INFO:tensorflow:step = 2101, loss = 0.0469557 (0.601 sec)\n",
      "INFO:tensorflow:global_step/sec: 186.119\n",
      "INFO:tensorflow:step = 2201, loss = 0.0461041 (0.552 sec)\n",
      "INFO:tensorflow:global_step/sec: 200.411\n",
      "INFO:tensorflow:step = 2301, loss = 0.0451027 (0.487 sec)\n",
      "INFO:tensorflow:global_step/sec: 192.931\n",
      "INFO:tensorflow:step = 2401, loss = 0.0442177 (0.516 sec)\n",
      "INFO:tensorflow:global_step/sec: 207.669\n",
      "INFO:tensorflow:step = 2501, loss = 0.0433604 (0.485 sec)\n",
      "INFO:tensorflow:global_step/sec: 207.378\n",
      "INFO:tensorflow:step = 2601, loss = 0.0425491 (0.499 sec)\n",
      "INFO:tensorflow:global_step/sec: 185.94\n",
      "INFO:tensorflow:step = 2701, loss = 0.0416475 (0.518 sec)\n",
      "INFO:tensorflow:global_step/sec: 199.511\n",
      "INFO:tensorflow:step = 2801, loss = 0.0409373 (0.501 sec)\n",
      "INFO:tensorflow:global_step/sec: 199.796\n",
      "INFO:tensorflow:step = 2901, loss = 0.0401988 (0.516 sec)\n",
      "INFO:tensorflow:global_step/sec: 188.124\n",
      "INFO:tensorflow:step = 3001, loss = 0.0394097 (0.532 sec)\n",
      "INFO:tensorflow:global_step/sec: 221.189\n",
      "INFO:tensorflow:step = 3101, loss = 0.0386605 (0.437 sec)\n",
      "INFO:tensorflow:global_step/sec: 199.965\n",
      "INFO:tensorflow:step = 3201, loss = 0.0378716 (0.500 sec)\n",
      "INFO:tensorflow:global_step/sec: 187.501\n",
      "INFO:tensorflow:step = 3301, loss = 0.0372254 (0.532 sec)\n",
      "INFO:tensorflow:global_step/sec: 206.39\n",
      "INFO:tensorflow:step = 3401, loss = 0.0365188 (0.500 sec)\n",
      "INFO:tensorflow:global_step/sec: 207.833\n",
      "INFO:tensorflow:step = 3501, loss = 0.0358189 (0.469 sec)\n",
      "INFO:tensorflow:global_step/sec: 214.529\n",
      "INFO:tensorflow:step = 3601, loss = 0.0351441 (0.478 sec)\n",
      "INFO:tensorflow:global_step/sec: 206.391\n",
      "INFO:tensorflow:step = 3701, loss = 0.0344817 (0.469 sec)\n",
      "INFO:tensorflow:global_step/sec: 283.141\n",
      "INFO:tensorflow:step = 3801, loss = 0.033822 (0.354 sec)\n",
      "INFO:tensorflow:global_step/sec: 223.05\n",
      "INFO:tensorflow:step = 3901, loss = 0.0331877 (0.447 sec)\n",
      "INFO:tensorflow:Saving checkpoints for 4000 into C:/Users/MAYANK/Downloads/dataset/iris/iris_model\\model.ckpt.\n",
      "INFO:tensorflow:Loss for final step: 0.0325403.\n"
     ]
    },
    {
     "data": {
      "text/plain": [
       "DNNClassifier(params={'activation_fn': <function relu at 0x000001F8ADF00F28>, 'input_layer_min_slice_size': None, 'hidden_units': [10, 20, 10], 'feature_columns': (_RealValuedColumn(column_name='', dimension=4, default_value=None, dtype=tf.float32, normalizer=None),), 'gradient_clip_norm': None, 'embedding_lr_multipliers': None, 'optimizer': None, 'dropout': None, 'head': <tensorflow.contrib.learn.python.learn.estimators.head._MultiClassHead object at 0x000001F8AF6F3CC0>})"
      ]
     },
     "execution_count": 6,
     "metadata": {},
     "output_type": "execute_result"
    }
   ],
   "source": [
    "# Fit model.\n",
    "classifier.fit(x=training_set.data, y=training_set.target, steps=2000)"
   ]
  },
  {
   "cell_type": "code",
   "execution_count": 7,
   "metadata": {},
   "outputs": [
    {
     "name": "stdout",
     "output_type": "stream",
     "text": [
      "WARNING:tensorflow:From <ipython-input-7-0cf0162d757c>:3: calling BaseEstimator.evaluate (from tensorflow.contrib.learn.python.learn.estimators.estimator) with x is deprecated and will be removed after 2016-12-01.\n",
      "Instructions for updating:\n",
      "Estimator is decoupled from Scikit Learn interface by moving into\n",
      "separate class SKCompat. Arguments x, y and batch_size are only\n",
      "available in the SKCompat class, Estimator will only accept input_fn.\n",
      "Example conversion:\n",
      "  est = Estimator(...) -> est = SKCompat(Estimator(...))\n",
      "WARNING:tensorflow:From <ipython-input-7-0cf0162d757c>:3: calling BaseEstimator.evaluate (from tensorflow.contrib.learn.python.learn.estimators.estimator) with y is deprecated and will be removed after 2016-12-01.\n",
      "Instructions for updating:\n",
      "Estimator is decoupled from Scikit Learn interface by moving into\n",
      "separate class SKCompat. Arguments x, y and batch_size are only\n",
      "available in the SKCompat class, Estimator will only accept input_fn.\n",
      "Example conversion:\n",
      "  est = Estimator(...) -> est = SKCompat(Estimator(...))\n",
      "WARNING:tensorflow:From c:\\program files\\python35\\lib\\site-packages\\tensorflow\\contrib\\learn\\python\\learn\\estimators\\head.py:642: scalar_summary (from tensorflow.python.ops.logging_ops) is deprecated and will be removed after 2016-11-30.\n",
      "Instructions for updating:\n",
      "Please switch to tf.summary.scalar. Note that tf.summary.scalar uses the node name instead of the tag. This means that TensorFlow will automatically de-duplicate summary names based on the scope they are created in. Also, passing a tensor or list of tags to a scalar summary op is no longer supported.\n",
      "INFO:tensorflow:Starting evaluation at 2017-10-14-02:19:06\n",
      "INFO:tensorflow:Restoring parameters from C:/Users/MAYANK/Downloads/dataset/iris/iris_model\\model.ckpt-4000\n",
      "INFO:tensorflow:Finished evaluation at 2017-10-14-02:19:07\n",
      "INFO:tensorflow:Saving dict for global step 4000: accuracy = 0.966667, global_step = 4000, loss = 0.106725\n",
      "Accuracy: 0.966667\n"
     ]
    }
   ],
   "source": [
    "# Evaluate accuracy.\n",
    "accuracy_score = classifier.evaluate(x=test_set.data,\n",
    "                                     y=test_set.target)[\"accuracy\"]\n",
    "print('Accuracy: {0:f}'.format(accuracy_score))"
   ]
  },
  {
   "cell_type": "code",
   "execution_count": 8,
   "metadata": {},
   "outputs": [
    {
     "name": "stdout",
     "output_type": "stream",
     "text": [
      "WARNING:tensorflow:From c:\\program files\\python35\\lib\\site-packages\\tensorflow\\python\\util\\deprecation.py:355: calling DNNClassifier.predict (from tensorflow.contrib.learn.python.learn.estimators.dnn) with outputs=None is deprecated and will be removed after 2017-03-01.\n",
      "Instructions for updating:\n",
      "Please switch to predict_classes, or set `outputs` argument.\n",
      "WARNING:tensorflow:From c:\\program files\\python35\\lib\\site-packages\\tensorflow\\contrib\\learn\\python\\learn\\estimators\\dnn.py:452: calling BaseEstimator.predict (from tensorflow.contrib.learn.python.learn.estimators.estimator) with x is deprecated and will be removed after 2016-12-01.\n",
      "Instructions for updating:\n",
      "Estimator is decoupled from Scikit Learn interface by moving into\n",
      "separate class SKCompat. Arguments x, y and batch_size are only\n",
      "available in the SKCompat class, Estimator will only accept input_fn.\n",
      "Example conversion:\n",
      "  est = Estimator(...) -> est = SKCompat(Estimator(...))\n",
      "WARNING:tensorflow:float64 is not supported by many models, consider casting to float32.\n",
      "INFO:tensorflow:Restoring parameters from C:/Users/MAYANK/Downloads/dataset/iris/iris_model\\model.ckpt-4000\n",
      "Predictions: [1, 2]\n"
     ]
    }
   ],
   "source": [
    "# Classify two new flower samples.\n",
    "new_samples = np.array(\n",
    "    [[6.4, 3.2, 4.5, 1.5], [5.8, 3.1, 5.0, 1.7]], dtype=float)\n",
    "y = list(classifier.predict(new_samples, as_iterable=True))\n",
    "print('Predictions: {}'.format(str(y)))"
   ]
  }
 ],
 "metadata": {
  "kernelspec": {
   "display_name": "Python 3",
   "language": "python",
   "name": "python3"
  },
  "language_info": {
   "codemirror_mode": {
    "name": "ipython",
    "version": 3
   },
   "file_extension": ".py",
   "mimetype": "text/x-python",
   "name": "python",
   "nbconvert_exporter": "python",
   "pygments_lexer": "ipython3",
   "version": "3.5.3"
  }
 },
 "nbformat": 4,
 "nbformat_minor": 2
}
